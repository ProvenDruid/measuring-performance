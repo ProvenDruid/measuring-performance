{
  "nbformat": 4,
  "nbformat_minor": 0,
  "metadata": {
    "colab": {
      "provenance": [],
      "authorship_tag": "ABX9TyPNsBfwF47eXR3UySi6CEL+",
      "include_colab_link": true
    },
    "kernelspec": {
      "name": "python3",
      "display_name": "Python 3"
    },
    "language_info": {
      "name": "python"
    }
  },
  "cells": [
    {
      "cell_type": "markdown",
      "metadata": {
        "id": "view-in-github",
        "colab_type": "text"
      },
      "source": [
        "<a href=\"https://colab.research.google.com/github/ProvenDruid/measuring-performance/blob/main/measurePerf_APRF_wine.ipynb\" target=\"_parent\"><img src=\"https://colab.research.google.com/assets/colab-badge.svg\" alt=\"Open In Colab\"/></a>"
      ]
    },
    {
      "cell_type": "code",
      "execution_count": null,
      "metadata": {
        "id": "da9mqJn9wniV"
      },
      "outputs": [],
      "source": [
        "### import libraries\n",
        "\n",
        "# for DL modeling\n",
        "import torch\n",
        "import torch.nn as nn\n",
        "import torch.nn.functional as F\n",
        "from torch.utils.data import DataLoader\n",
        "from sklearn.model_selection import train_test_split\n",
        "\n",
        "# for number-crunching\n",
        "import numpy as np\n",
        "import scipy.stats as stats\n",
        "\n",
        "# for dataset management\n",
        "import pandas as pd\n",
        "\n",
        "# for data visualization\n",
        "import matplotlib.pyplot as plt\n",
        "from IPython import display\n",
        "from matplotlib_inline.backend_inline import set_matplotlib_formats"
      ]
    },
    {
      "cell_type": "code",
      "source": [
        "# import the data\n",
        "url = \"https://archive.ics.uci.edu/ml/machine-learning-databases/wine-quality/winequality-red.csv\"\n",
        "data = pd.read_csv(url,sep=';')\n",
        "data = data[data['total sulfur dioxide']<200] # drop a few outliers\n",
        "\n",
        "# z-score all columns except for quality\n",
        "cols2zscore = data.keys()\n",
        "cols2zscore = cols2zscore.drop('quality')\n",
        "data[cols2zscore] = data[cols2zscore].apply(stats.zscore)\n",
        "\n",
        "# create a new column for binarized (boolean) quality\n",
        "data['boolQuality'] = 0\n",
        "# data['boolQuality'][data['quality']<6] = 0 # implicit in the code! just here for clarity\n",
        "data['boolQuality'][data['quality']>5] = 1"
      ],
      "metadata": {
        "colab": {
          "base_uri": "https://localhost:8080/"
        },
        "id": "JQqSCKO54MWB",
        "outputId": "9ff2255c-1d72-42b8-9bfd-23b0ab7c1415"
      },
      "execution_count": null,
      "outputs": [
        {
          "output_type": "stream",
          "name": "stderr",
          "text": [
            "<ipython-input-3-6f5cb70bcde3>:14: SettingWithCopyWarning: \n",
            "A value is trying to be set on a copy of a slice from a DataFrame\n",
            "\n",
            "See the caveats in the documentation: https://pandas.pydata.org/pandas-docs/stable/user_guide/indexing.html#returning-a-view-versus-a-copy\n",
            "  data['boolQuality'][data['quality']>5] = 1\n"
          ]
        }
      ]
    },
    {
      "cell_type": "code",
      "source": [
        "# convert from pandas dataframe to tensor\n",
        "dataT  = torch.tensor( data[cols2zscore].values ).float()\n",
        "labels = torch.tensor( data['boolQuality'].values ).float()\n",
        "labels = labels[:,None] # transform to matrix\n",
        "\n",
        "# use scikitlearn to split the data\n",
        "train_data,test_data, train_labels,test_labels = train_test_split(dataT, labels, test_size=.1)\n",
        "\n",
        "# then convert them into PyTorch Datasets (note: already converted to tensors)\n",
        "train_dataDataset = torch.utils.data.TensorDataset(train_data,train_labels)\n",
        "test_dataDataset  = torch.utils.data.TensorDataset(test_data,test_labels)\n",
        "\n",
        "# finally, create dataloaders\n",
        "train_loader = DataLoader(train_dataDataset,batch_size=32, shuffle=True, drop_last=True)\n",
        "test_loader  = DataLoader(test_dataDataset,batch_size=test_dataDataset.tensors[0].shape[0])"
      ],
      "metadata": {
        "id": "VFKhdGRb-FA_"
      },
      "execution_count": null,
      "outputs": []
    },
    {
      "cell_type": "code",
      "source": [
        "# create a class for the model\n",
        "\n",
        "class ANNwine(nn.Module):\n",
        "  def __init__(self):\n",
        "    super().__init__()\n",
        "\n",
        "    ### input layer\n",
        "    self.input = nn.Linear(11,16)\n",
        "\n",
        "    ### hidden layers\n",
        "    self.fc1 = nn.Linear(16,32)\n",
        "    self.fc2 = nn.Linear(32,32)\n",
        "\n",
        "    ### output layer\n",
        "    self.output = nn.Linear(32,1)\n",
        "\n",
        "  # forward pass\n",
        "  def forward(self,x):\n",
        "    x = F.relu( self.input(x) )\n",
        "    x = F.relu( self.fc1(x) )\n",
        "    x = F.relu( self.fc2(x) )\n",
        "    return self.output(x)"
      ],
      "metadata": {
        "id": "iTmtqAeF_B5Q"
      },
      "execution_count": null,
      "outputs": []
    },
    {
      "cell_type": "code",
      "source": [
        "# global parameter\n",
        "numepochs = 1000\n",
        "\n",
        "def trainTheModel():\n",
        "\n",
        "  # loss function and optimizer\n",
        "  lossfun = nn.BCEWithLogitsLoss()\n",
        "  optimizer = torch.optim.SGD(winenet.parameters(),lr=.01)\n",
        "\n",
        "  # initialize losses\n",
        "  losses   = torch.zeros(numepochs)\n",
        "  trainAcc = []\n",
        "  testAcc  = []\n",
        "\n",
        "  # loop over epochs\n",
        "  for epochi in range(numepochs):\n",
        "\n",
        "    # loop over training data batches\n",
        "    batchAcc  = []\n",
        "    batchLoss = []\n",
        "    for X,y in train_loader:\n",
        "\n",
        "      # forward pass and loss\n",
        "      yHat = winenet(X)\n",
        "      loss = lossfun(yHat,y)\n",
        "\n",
        "      # backprop\n",
        "      optimizer.zero_grad()\n",
        "      loss.backward()\n",
        "      optimizer.step()\n",
        "\n",
        "      # loss from this batch\n",
        "      batchLoss.append(loss.item())\n",
        "\n",
        "      # compute training accuracy for this batch\n",
        "      batchAcc.append( 100*torch.mean(((yHat>0) == y).float()).item() )\n",
        "    # end of batch loop...\n",
        "\n",
        "    # now that we've trained through the batches, get their average training accuracy\n",
        "    trainAcc.append( np.mean(batchAcc) )\n",
        "\n",
        "    # and get average losses across the batches\n",
        "    losses[epochi] = np.mean(batchLoss)\n",
        "\n",
        "    # test accuracy\n",
        "    X,y = next(iter(test_loader)) # extract X,y from test dataloader\n",
        "    with torch.no_grad(): # deactivates autograd\n",
        "      yHat = winenet(X)\n",
        "    testAcc.append( 100*torch.mean(((yHat>0) == y).float()).item() )\n",
        "\n",
        "  # function output\n",
        "  return trainAcc,testAcc,losses"
      ],
      "metadata": {
        "id": "5mI_Em7WALnv"
      },
      "execution_count": null,
      "outputs": []
    },
    {
      "cell_type": "code",
      "source": [
        "# create and train a model\n",
        "winenet = ANNwine()\n",
        "trainAcc,testAcc,losses = trainTheModel()"
      ],
      "metadata": {
        "id": "4YaI0uzxsqVm"
      },
      "execution_count": null,
      "outputs": []
    },
    {
      "cell_type": "code",
      "source": [
        "# predictions for training data\n",
        "train_predictions = winenet(train_loader.dataset.tensors[0])\n",
        "train_predictions\n",
        "\n",
        "# predictions for test data\n",
        "test_predictions = winenet(test_loader.dataset.tensors[0])\n",
        "test_predictions"
      ],
      "metadata": {
        "colab": {
          "base_uri": "https://localhost:8080/"
        },
        "id": "fUDRo808s5Pg",
        "outputId": "68248b05-c521-4e40-df28-2b73fadc753d"
      },
      "execution_count": null,
      "outputs": [
        {
          "output_type": "execute_result",
          "data": {
            "text/plain": [
              "tensor([[-3.1412e+00],\n",
              "        [ 8.8529e-01],\n",
              "        [ 3.0366e+00],\n",
              "        [ 1.6682e+00],\n",
              "        [-6.4579e+00],\n",
              "        [ 5.4880e+00],\n",
              "        [ 4.4788e+00],\n",
              "        [ 4.4607e+00],\n",
              "        [ 2.8596e+00],\n",
              "        [ 7.3510e+00],\n",
              "        [-7.3663e-01],\n",
              "        [-3.6126e+00],\n",
              "        [ 3.1411e+00],\n",
              "        [-1.2610e+00],\n",
              "        [ 3.2099e-01],\n",
              "        [ 6.1625e+00],\n",
              "        [-4.5451e+00],\n",
              "        [-2.4421e+00],\n",
              "        [ 4.0239e+00],\n",
              "        [ 1.7963e+00],\n",
              "        [ 2.1930e+00],\n",
              "        [ 6.1240e+00],\n",
              "        [ 1.3414e-01],\n",
              "        [-2.3811e-01],\n",
              "        [ 3.3981e+00],\n",
              "        [ 2.1218e+00],\n",
              "        [-2.3385e+00],\n",
              "        [ 4.6846e-02],\n",
              "        [-5.2507e+00],\n",
              "        [ 8.6728e-01],\n",
              "        [ 5.0440e+00],\n",
              "        [-3.3189e+00],\n",
              "        [-4.9879e-01],\n",
              "        [-4.9184e+00],\n",
              "        [-5.0051e+00],\n",
              "        [ 2.8143e+00],\n",
              "        [ 9.5979e+00],\n",
              "        [ 1.7377e+00],\n",
              "        [ 4.2841e+00],\n",
              "        [-3.1527e+00],\n",
              "        [ 2.2234e+00],\n",
              "        [ 3.6575e+00],\n",
              "        [ 1.5131e+00],\n",
              "        [ 4.3457e+00],\n",
              "        [ 2.3675e-01],\n",
              "        [ 1.7455e+00],\n",
              "        [ 2.8871e+00],\n",
              "        [-1.8663e+00],\n",
              "        [ 1.9880e+00],\n",
              "        [ 6.1494e+00],\n",
              "        [-1.2288e+00],\n",
              "        [-6.3852e-01],\n",
              "        [ 3.9993e+00],\n",
              "        [ 1.1438e+00],\n",
              "        [-2.5998e+00],\n",
              "        [ 3.0366e+00],\n",
              "        [ 4.3820e+00],\n",
              "        [-6.0063e-01],\n",
              "        [ 2.3009e+00],\n",
              "        [ 2.3247e+00],\n",
              "        [-7.4812e-01],\n",
              "        [ 3.4923e+00],\n",
              "        [ 1.2256e+00],\n",
              "        [-1.1908e+00],\n",
              "        [ 3.1963e+00],\n",
              "        [ 5.4299e+00],\n",
              "        [ 2.8935e+00],\n",
              "        [ 1.3006e-03],\n",
              "        [-6.0707e+00],\n",
              "        [-3.1294e-01],\n",
              "        [-2.9918e+00],\n",
              "        [-3.1204e+00],\n",
              "        [-2.9175e+00],\n",
              "        [ 2.4489e+00],\n",
              "        [-7.4548e-01],\n",
              "        [ 2.2192e+00],\n",
              "        [ 2.5791e+00],\n",
              "        [ 1.4903e+00],\n",
              "        [-2.1257e+00],\n",
              "        [ 5.8334e+00],\n",
              "        [-4.7528e-01],\n",
              "        [-1.9036e-01],\n",
              "        [ 1.9637e+00],\n",
              "        [-2.6601e+00],\n",
              "        [ 3.1367e+00],\n",
              "        [ 3.1167e+00],\n",
              "        [ 3.3895e+00],\n",
              "        [-3.1544e+00],\n",
              "        [-4.4301e+00],\n",
              "        [ 5.6147e-01],\n",
              "        [-3.1028e-02],\n",
              "        [ 7.6506e-01],\n",
              "        [ 7.0324e-01],\n",
              "        [ 2.3013e-01],\n",
              "        [-2.8219e+00],\n",
              "        [-1.1431e+00],\n",
              "        [ 1.5497e+00],\n",
              "        [-2.1069e+00],\n",
              "        [-4.2345e+00],\n",
              "        [ 4.4788e+00],\n",
              "        [ 1.1101e-01],\n",
              "        [ 8.7322e+00],\n",
              "        [ 1.6448e+00],\n",
              "        [ 2.1681e+00],\n",
              "        [ 1.9282e+00],\n",
              "        [ 5.5116e-01],\n",
              "        [ 3.9993e+00],\n",
              "        [-3.7303e+00],\n",
              "        [-4.0912e+00],\n",
              "        [-4.0211e-01],\n",
              "        [-5.7990e-01],\n",
              "        [-3.4268e+00],\n",
              "        [ 2.9184e+00],\n",
              "        [-1.6123e-01],\n",
              "        [-1.5706e+00],\n",
              "        [-2.2477e+00],\n",
              "        [ 4.1391e+00],\n",
              "        [ 1.6960e+00],\n",
              "        [ 1.5050e+00],\n",
              "        [-2.5108e-01],\n",
              "        [-1.9257e+00],\n",
              "        [ 5.0648e+00],\n",
              "        [ 5.4620e+00],\n",
              "        [-7.7435e-02],\n",
              "        [ 5.9026e-01],\n",
              "        [ 5.4888e+00],\n",
              "        [ 3.3291e+00],\n",
              "        [-5.2909e-01],\n",
              "        [-1.7898e+00],\n",
              "        [-1.1177e+00],\n",
              "        [ 4.3663e+00],\n",
              "        [ 1.5082e+00],\n",
              "        [ 8.1350e-01],\n",
              "        [ 6.4169e+00],\n",
              "        [-3.6498e+00],\n",
              "        [ 1.2133e+00],\n",
              "        [ 4.3820e+00],\n",
              "        [-8.9630e+00],\n",
              "        [ 1.1350e-01],\n",
              "        [-2.6092e+00],\n",
              "        [ 1.8598e+00],\n",
              "        [ 1.2868e+00],\n",
              "        [-1.0308e+01],\n",
              "        [-5.8544e+00],\n",
              "        [-8.4885e-01],\n",
              "        [-2.1129e-02],\n",
              "        [-3.1028e+00],\n",
              "        [ 2.1218e+00],\n",
              "        [ 2.1366e-01],\n",
              "        [ 1.3212e+00],\n",
              "        [ 3.5079e-01],\n",
              "        [-2.4479e+00],\n",
              "        [ 2.5642e-01],\n",
              "        [ 4.6892e-01],\n",
              "        [ 1.0424e+01],\n",
              "        [ 4.6459e+00],\n",
              "        [-1.4969e+00],\n",
              "        [ 1.1109e+00],\n",
              "        [-4.0015e+00],\n",
              "        [-2.8334e+00]], grad_fn=<AddmmBackward0>)"
            ]
          },
          "metadata": {},
          "execution_count": 8
        }
      ]
    },
    {
      "cell_type": "code",
      "source": [
        "# NEW! using scikitlearn to compute ARPF\n",
        "import sklearn.metrics as skm\n",
        "\n",
        "# initialize vectors\n",
        "train_metrics = [0,0,0,0]\n",
        "test_metrics  = [0,0,0,0]\n",
        "\n",
        "# training\n",
        "train_metrics[0] = skm.accuracy_score (train_loader.dataset.tensors[1],train_predictions>0)\n",
        "train_metrics[1] = skm.precision_score(train_loader.dataset.tensors[1],train_predictions>0)\n",
        "train_metrics[2] = skm.recall_score   (train_loader.dataset.tensors[1],train_predictions>0)\n",
        "train_metrics[3] = skm.f1_score       (train_loader.dataset.tensors[1],train_predictions>0)\n",
        "\n",
        "\n",
        "# test\n",
        "test_metrics[0] = skm.accuracy_score (test_loader.dataset.tensors[1],test_predictions>0)\n",
        "test_metrics[1] = skm.precision_score(test_loader.dataset.tensors[1],test_predictions>0)\n",
        "test_metrics[2] = skm.recall_score   (test_loader.dataset.tensors[1],test_predictions>0)\n",
        "test_metrics[3] = skm.f1_score       (test_loader.dataset.tensors[1],test_predictions>0)"
      ],
      "metadata": {
        "id": "BalA1OHV5iZI"
      },
      "execution_count": null,
      "outputs": []
    },
    {
      "cell_type": "code",
      "source": [
        "plt.bar(np.arange(4)-.1,train_metrics,.5)\n",
        "plt.bar(np.arange(4)+.1,test_metrics,.5)\n",
        "plt.xticks([0,1,2,3],['Accuracy','Precision','Recall','F1-score'])\n",
        "plt.ylim([.6,1])\n",
        "plt.legend(['Train','Test'])\n",
        "plt.title('Performance metrics')\n",
        "plt.show()"
      ],
      "metadata": {
        "id": "vbt18HJk5kU3",
        "outputId": "0610de96-1304-4bb3-c872-f70952bdd304",
        "colab": {
          "base_uri": "https://localhost:8080/",
          "height": 452
        }
      },
      "execution_count": null,
      "outputs": [
        {
          "output_type": "display_data",
          "data": {
            "text/plain": [
              "<Figure size 640x480 with 1 Axes>"
            ],
            "image/png": "[encoded data removed]"
          },
          "metadata": {}
        }
      ]
    },
    {
      "cell_type": "code",
      "source": [
        "# Confusion matrices\n",
        "trainConf = skm.confusion_matrix(train_loader.dataset.tensors[1],train_predictions>0)\n",
        "testConf  = skm.confusion_matrix(test_loader.dataset.tensors[1], test_predictions>0)\n",
        "\n",
        "fig,ax = plt.subplots(1,2,figsize=(10,4))\n",
        "\n",
        "# confmat during TRAIN\n",
        "ax[0].imshow(trainConf,'Blues',vmax=len(train_predictions)/2)\n",
        "ax[0].set_xticks([0,1])\n",
        "ax[0].set_yticks([0,1])\n",
        "ax[0].set_xticklabels(['bad','good'])\n",
        "ax[0].set_yticklabels(['bad','good'])\n",
        "ax[0].set_xlabel('Predicted quality')\n",
        "ax[0].set_ylabel('True quality')\n",
        "ax[0].set_title('TRAIN confusion matrix')\n",
        "\n",
        "# add text labels\n",
        "ax[0].text(0,0,f'True negatives:\\n{trainConf[0,0]}' ,ha='center',va='center')\n",
        "ax[0].text(0,1,f'False negatives:\\n{trainConf[1,0]}',ha='center',va='center')\n",
        "ax[0].text(1,1,f'True positives:\\n{trainConf[1,1]}' ,ha='center',va='center')\n",
        "ax[0].text(1,0,f'False positives:\\n{trainConf[0,1]}',ha='center',va='center')\n",
        "\n",
        "\n",
        "\n",
        "\n",
        "# confmat during TEST\n",
        "ax[1].imshow(testConf,'Blues',vmax=len(test_predictions)/2)\n",
        "ax[1].set_xticks([0,1])\n",
        "ax[1].set_yticks([0,1])\n",
        "ax[1].set_xticklabels(['bad','good'])\n",
        "ax[1].set_yticklabels(['bad','good'])\n",
        "ax[1].set_xlabel('Predicted quality')\n",
        "ax[1].set_ylabel('True quality')\n",
        "ax[1].set_title('TEST confusion matrix')\n",
        "\n",
        "# add text labels\n",
        "ax[1].text(0,0,f'True negatives:\\n{testConf[0,0]}' ,ha='center',va='center')\n",
        "ax[1].text(0,1,f'False negatives:\\n{testConf[1,0]}',ha='center',va='center')\n",
        "ax[1].text(1,1,f'True positives:\\n{testConf[1,1]}' ,ha='center',va='center')\n",
        "ax[1].text(1,0,f'False positives:\\n{testConf[0,1]}',ha='center',va='center')\n",
        "plt.show()\n",
        "\n",
        "trainConf"
      ],
      "metadata": {
        "id": "wT5Fg3ki5nCw",
        "outputId": "0ee92d05-d7f5-4535-88cd-dfe6beccabd0",
        "colab": {
          "base_uri": "https://localhost:8080/",
          "height": 446
        }
      },
      "execution_count": null,
      "outputs": [
        {
          "output_type": "display_data",
          "data": {
            "text/plain": [
              "<Figure size 1000x400 with 2 Axes>"
            ],
            "image/png": "[encoded data removed]"
          },
          "metadata": {}
        },
        {
          "output_type": "execute_result",
          "data": {
            "text/plain": [
              "array([[595,  81],\n",
              "       [ 70, 691]])"
            ]
          },
          "metadata": {},
          "execution_count": 11
        }
      ]
    }
  ]
}